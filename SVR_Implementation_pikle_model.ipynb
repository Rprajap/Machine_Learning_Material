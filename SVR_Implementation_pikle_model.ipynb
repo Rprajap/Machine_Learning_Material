{
 "cells": [
  {
   "cell_type": "code",
   "execution_count": 1,
   "id": "794aec6f",
   "metadata": {},
   "outputs": [],
   "source": [
    "import pandas as pd\n",
    "import numpy as np\n",
    "import matplotlib.pyplot as plt\n",
    "import seaborn as sns; sns.set()"
   ]
  },
  {
   "cell_type": "code",
   "execution_count": 2,
   "id": "f19bd883",
   "metadata": {},
   "outputs": [],
   "source": [
    "df=pd.read_csv('airfoil_self_noise.dat',sep='\\t',header=None)"
   ]
  },
  {
   "cell_type": "code",
   "execution_count": 3,
   "id": "4637f962",
   "metadata": {},
   "outputs": [
    {
     "data": {
      "text/plain": [
       "'Attribute Information:\\n\\nThis problem has the following inputs:\\n1. Frequency, in Hertzs.\\n2. Angle of attack, in degrees.\\n3. Chord length, in meters.\\n4. Free-stream velocity, in meters per second.\\n5. Suction side displacement thickness, in meters.\\n\\nThe only output is:\\n6. Scaled sound pressure level, in decibels.'"
      ]
     },
     "execution_count": 3,
     "metadata": {},
     "output_type": "execute_result"
    }
   ],
   "source": [
    "'''Attribute Information:\n",
    "\n",
    "This problem has the following inputs:\n",
    "1. Frequency, in Hertzs.\n",
    "2. Angle of attack, in degrees.\n",
    "3. Chord length, in meters.\n",
    "4. Free-stream velocity, in meters per second.\n",
    "5. Suction side displacement thickness, in meters.\n",
    "\n",
    "The only output is:\n",
    "6. Scaled sound pressure level, in decibels.'''"
   ]
  },
  {
   "cell_type": "code",
   "execution_count": 4,
   "id": "b534c4e9",
   "metadata": {},
   "outputs": [
    {
     "data": {
      "text/html": [
       "<div>\n",
       "<style scoped>\n",
       "    .dataframe tbody tr th:only-of-type {\n",
       "        vertical-align: middle;\n",
       "    }\n",
       "\n",
       "    .dataframe tbody tr th {\n",
       "        vertical-align: top;\n",
       "    }\n",
       "\n",
       "    .dataframe thead th {\n",
       "        text-align: right;\n",
       "    }\n",
       "</style>\n",
       "<table border=\"1\" class=\"dataframe\">\n",
       "  <thead>\n",
       "    <tr style=\"text-align: right;\">\n",
       "      <th></th>\n",
       "      <th>0</th>\n",
       "      <th>1</th>\n",
       "      <th>2</th>\n",
       "      <th>3</th>\n",
       "      <th>4</th>\n",
       "      <th>5</th>\n",
       "    </tr>\n",
       "  </thead>\n",
       "  <tbody>\n",
       "    <tr>\n",
       "      <th>0</th>\n",
       "      <td>800</td>\n",
       "      <td>0.0</td>\n",
       "      <td>0.3048</td>\n",
       "      <td>71.3</td>\n",
       "      <td>0.002663</td>\n",
       "      <td>126.201</td>\n",
       "    </tr>\n",
       "    <tr>\n",
       "      <th>1</th>\n",
       "      <td>1000</td>\n",
       "      <td>0.0</td>\n",
       "      <td>0.3048</td>\n",
       "      <td>71.3</td>\n",
       "      <td>0.002663</td>\n",
       "      <td>125.201</td>\n",
       "    </tr>\n",
       "    <tr>\n",
       "      <th>2</th>\n",
       "      <td>1250</td>\n",
       "      <td>0.0</td>\n",
       "      <td>0.3048</td>\n",
       "      <td>71.3</td>\n",
       "      <td>0.002663</td>\n",
       "      <td>125.951</td>\n",
       "    </tr>\n",
       "    <tr>\n",
       "      <th>3</th>\n",
       "      <td>1600</td>\n",
       "      <td>0.0</td>\n",
       "      <td>0.3048</td>\n",
       "      <td>71.3</td>\n",
       "      <td>0.002663</td>\n",
       "      <td>127.591</td>\n",
       "    </tr>\n",
       "    <tr>\n",
       "      <th>4</th>\n",
       "      <td>2000</td>\n",
       "      <td>0.0</td>\n",
       "      <td>0.3048</td>\n",
       "      <td>71.3</td>\n",
       "      <td>0.002663</td>\n",
       "      <td>127.461</td>\n",
       "    </tr>\n",
       "  </tbody>\n",
       "</table>\n",
       "</div>"
      ],
      "text/plain": [
       "      0    1       2     3         4        5\n",
       "0   800  0.0  0.3048  71.3  0.002663  126.201\n",
       "1  1000  0.0  0.3048  71.3  0.002663  125.201\n",
       "2  1250  0.0  0.3048  71.3  0.002663  125.951\n",
       "3  1600  0.0  0.3048  71.3  0.002663  127.591\n",
       "4  2000  0.0  0.3048  71.3  0.002663  127.461"
      ]
     },
     "execution_count": 4,
     "metadata": {},
     "output_type": "execute_result"
    }
   ],
   "source": [
    "df.head()"
   ]
  },
  {
   "cell_type": "code",
   "execution_count": 5,
   "id": "9a67d5f9",
   "metadata": {},
   "outputs": [],
   "source": [
    "df.columns=[\"Frequency\",\"Angle of attack\",\"Chord length\",\"Free-stream velocity\",\"Suction side displacement thickness\",\"Scaled sound pressure level\"]\n"
   ]
  },
  {
   "cell_type": "code",
   "execution_count": 6,
   "id": "3e44d06a",
   "metadata": {},
   "outputs": [
    {
     "data": {
      "text/html": [
       "<div>\n",
       "<style scoped>\n",
       "    .dataframe tbody tr th:only-of-type {\n",
       "        vertical-align: middle;\n",
       "    }\n",
       "\n",
       "    .dataframe tbody tr th {\n",
       "        vertical-align: top;\n",
       "    }\n",
       "\n",
       "    .dataframe thead th {\n",
       "        text-align: right;\n",
       "    }\n",
       "</style>\n",
       "<table border=\"1\" class=\"dataframe\">\n",
       "  <thead>\n",
       "    <tr style=\"text-align: right;\">\n",
       "      <th></th>\n",
       "      <th>Frequency</th>\n",
       "      <th>Angle of attack</th>\n",
       "      <th>Chord length</th>\n",
       "      <th>Free-stream velocity</th>\n",
       "      <th>Suction side displacement thickness</th>\n",
       "      <th>Scaled sound pressure level</th>\n",
       "    </tr>\n",
       "  </thead>\n",
       "  <tbody>\n",
       "    <tr>\n",
       "      <th>0</th>\n",
       "      <td>800</td>\n",
       "      <td>0.0</td>\n",
       "      <td>0.3048</td>\n",
       "      <td>71.3</td>\n",
       "      <td>0.002663</td>\n",
       "      <td>126.201</td>\n",
       "    </tr>\n",
       "    <tr>\n",
       "      <th>1</th>\n",
       "      <td>1000</td>\n",
       "      <td>0.0</td>\n",
       "      <td>0.3048</td>\n",
       "      <td>71.3</td>\n",
       "      <td>0.002663</td>\n",
       "      <td>125.201</td>\n",
       "    </tr>\n",
       "  </tbody>\n",
       "</table>\n",
       "</div>"
      ],
      "text/plain": [
       "   Frequency  Angle of attack  Chord length  Free-stream velocity  \\\n",
       "0        800              0.0        0.3048                  71.3   \n",
       "1       1000              0.0        0.3048                  71.3   \n",
       "\n",
       "   Suction side displacement thickness  Scaled sound pressure level  \n",
       "0                             0.002663                      126.201  \n",
       "1                             0.002663                      125.201  "
      ]
     },
     "execution_count": 6,
     "metadata": {},
     "output_type": "execute_result"
    }
   ],
   "source": [
    "df.head(2)"
   ]
  },
  {
   "cell_type": "code",
   "execution_count": 7,
   "id": "19509ade",
   "metadata": {},
   "outputs": [
    {
     "data": {
      "text/plain": [
       "Frequency                                int64\n",
       "Angle of attack                        float64\n",
       "Chord length                           float64\n",
       "Free-stream velocity                   float64\n",
       "Suction side displacement thickness    float64\n",
       "Scaled sound pressure level            float64\n",
       "dtype: object"
      ]
     },
     "execution_count": 7,
     "metadata": {},
     "output_type": "execute_result"
    }
   ],
   "source": [
    "df.dtypes"
   ]
  },
  {
   "cell_type": "code",
   "execution_count": 8,
   "id": "f099c508",
   "metadata": {},
   "outputs": [
    {
     "data": {
      "text/plain": [
       "Frequency                              0\n",
       "Angle of attack                        0\n",
       "Chord length                           0\n",
       "Free-stream velocity                   0\n",
       "Suction side displacement thickness    0\n",
       "Scaled sound pressure level            0\n",
       "dtype: int64"
      ]
     },
     "execution_count": 8,
     "metadata": {},
     "output_type": "execute_result"
    }
   ],
   "source": [
    "df.isnull().sum()"
   ]
  },
  {
   "cell_type": "code",
   "execution_count": 9,
   "id": "9df3ac81",
   "metadata": {},
   "outputs": [],
   "source": [
    "X=df.drop('Scaled sound pressure level',axis=1)\n",
    "Y=df['Scaled sound pressure level']"
   ]
  },
  {
   "cell_type": "code",
   "execution_count": 10,
   "id": "f4b58692",
   "metadata": {},
   "outputs": [],
   "source": [
    "## do train train split\n",
    "from sklearn.model_selection import train_test_split\n",
    "X_train, X_test, y_train, y_test = train_test_split(X, Y, test_size=0.20, random_state=42)"
   ]
  },
  {
   "cell_type": "code",
   "execution_count": null,
   "id": "78bfdeac",
   "metadata": {},
   "outputs": [],
   "source": [
    "# EDA"
   ]
  },
  {
   "cell_type": "code",
   "execution_count": null,
   "id": "ce513cd1",
   "metadata": {},
   "outputs": [],
   "source": [
    "plt.figure(figsize=(15,20))\n",
    "import seaborn as sns; sns.set()\n",
    "sns.pairplot(df)"
   ]
  },
  {
   "cell_type": "code",
   "execution_count": null,
   "id": "05fc779f",
   "metadata": {},
   "outputs": [],
   "source": [
    "# Automated EDA\n",
    "from ydata_profiling import ProfileReport\n",
    "profile = ProfileReport(df, title='Pandas Profile Report', explorative=True)\n",
    "profile.to_file(\"pandas_profile_report.html\")"
   ]
  },
  {
   "cell_type": "code",
   "execution_count": 11,
   "id": "cfdfaf9f",
   "metadata": {},
   "outputs": [
    {
     "data": {
      "text/html": [
       "<div>\n",
       "<style scoped>\n",
       "    .dataframe tbody tr th:only-of-type {\n",
       "        vertical-align: middle;\n",
       "    }\n",
       "\n",
       "    .dataframe tbody tr th {\n",
       "        vertical-align: top;\n",
       "    }\n",
       "\n",
       "    .dataframe thead th {\n",
       "        text-align: right;\n",
       "    }\n",
       "</style>\n",
       "<table border=\"1\" class=\"dataframe\">\n",
       "  <thead>\n",
       "    <tr style=\"text-align: right;\">\n",
       "      <th></th>\n",
       "      <th>Frequency</th>\n",
       "      <th>Angle of attack</th>\n",
       "      <th>Chord length</th>\n",
       "      <th>Free-stream velocity</th>\n",
       "      <th>Suction side displacement thickness</th>\n",
       "    </tr>\n",
       "  </thead>\n",
       "  <tbody>\n",
       "    <tr>\n",
       "      <th>Frequency</th>\n",
       "      <td>1.000000</td>\n",
       "      <td>-0.279410</td>\n",
       "      <td>0.012930</td>\n",
       "      <td>0.137387</td>\n",
       "      <td>-0.233708</td>\n",
       "    </tr>\n",
       "    <tr>\n",
       "      <th>Angle of attack</th>\n",
       "      <td>-0.279410</td>\n",
       "      <td>1.000000</td>\n",
       "      <td>-0.507163</td>\n",
       "      <td>0.050670</td>\n",
       "      <td>0.760036</td>\n",
       "    </tr>\n",
       "    <tr>\n",
       "      <th>Chord length</th>\n",
       "      <td>0.012930</td>\n",
       "      <td>-0.507163</td>\n",
       "      <td>1.000000</td>\n",
       "      <td>0.005318</td>\n",
       "      <td>-0.226070</td>\n",
       "    </tr>\n",
       "    <tr>\n",
       "      <th>Free-stream velocity</th>\n",
       "      <td>0.137387</td>\n",
       "      <td>0.050670</td>\n",
       "      <td>0.005318</td>\n",
       "      <td>1.000000</td>\n",
       "      <td>0.003225</td>\n",
       "    </tr>\n",
       "    <tr>\n",
       "      <th>Suction side displacement thickness</th>\n",
       "      <td>-0.233708</td>\n",
       "      <td>0.760036</td>\n",
       "      <td>-0.226070</td>\n",
       "      <td>0.003225</td>\n",
       "      <td>1.000000</td>\n",
       "    </tr>\n",
       "  </tbody>\n",
       "</table>\n",
       "</div>"
      ],
      "text/plain": [
       "                                     Frequency  Angle of attack  Chord length  \\\n",
       "Frequency                             1.000000        -0.279410      0.012930   \n",
       "Angle of attack                      -0.279410         1.000000     -0.507163   \n",
       "Chord length                          0.012930        -0.507163      1.000000   \n",
       "Free-stream velocity                  0.137387         0.050670      0.005318   \n",
       "Suction side displacement thickness  -0.233708         0.760036     -0.226070   \n",
       "\n",
       "                                     Free-stream velocity  \\\n",
       "Frequency                                        0.137387   \n",
       "Angle of attack                                  0.050670   \n",
       "Chord length                                     0.005318   \n",
       "Free-stream velocity                             1.000000   \n",
       "Suction side displacement thickness              0.003225   \n",
       "\n",
       "                                     Suction side displacement thickness  \n",
       "Frequency                                                      -0.233708  \n",
       "Angle of attack                                                 0.760036  \n",
       "Chord length                                                   -0.226070  \n",
       "Free-stream velocity                                            0.003225  \n",
       "Suction side displacement thickness                             1.000000  "
      ]
     },
     "execution_count": 11,
     "metadata": {},
     "output_type": "execute_result"
    }
   ],
   "source": [
    "X_train.corr()"
   ]
  },
  {
   "cell_type": "code",
   "execution_count": null,
   "id": "8ff4acd2",
   "metadata": {},
   "outputs": [],
   "source": [
    "for feature in df.columns:\n",
    "    plt.figure(figsize=(10,6))\n",
    "    sns.boxplot(df[feature])\n",
    "    plt.title('Box plot of' +str(feature))\n",
    "    plt.xlabel(feature)\n",
    "    plt.show()\n",
    "    plt.savefig('Box plot of' +str(feature)+'.png')\n",
    "\n"
   ]
  },
  {
   "cell_type": "code",
   "execution_count": null,
   "id": "71c9f552",
   "metadata": {},
   "outputs": [],
   "source": [
    "len(df['Scaled sound pressure level'].unique())"
   ]
  },
  {
   "cell_type": "code",
   "execution_count": 15,
   "id": "a01ed820",
   "metadata": {},
   "outputs": [
    {
     "name": "stdout",
     "output_type": "stream",
     "text": [
      "Model: DecisionTreeRegressor\n",
      "Train MSE: 0.0\n",
      "Test MSE: 5.583210445182721\n",
      "R square train is:1.0\n",
      "R square train is:0.888555510546345\n",
      "\n",
      "Model: RandomForestRegressor\n",
      "Train MSE: 0.44078814053461596\n",
      "Test MSE: 3.3163891305003395\n",
      "R square train is:0.9906046667240029\n",
      "R square train is:0.9338027292528169\n",
      "\n",
      "Model: AdaBoostRegressor\n",
      "Train MSE: 14.347284712807978\n",
      "Test MSE: 15.969326626786893\n",
      "R square train is:0.6941897726219255\n",
      "R square train is:0.6812419180121589\n",
      "\n",
      "Model: SVR\n",
      "Train MSE: 37.290193312478884\n",
      "Test MSE: 46.28588562439207\n",
      "R square train is:0.20516510795375154\n",
      "R square train is:0.07610380390169424\n",
      "\n",
      "Model: LinearRegression\n",
      "Train MSE: 23.296080124160657\n",
      "Test MSE: 22.128643318247335\n",
      "R square train is:0.503447537119858\n",
      "R square train is:0.5582979754897274\n",
      "\n",
      "Model: Ridge\n",
      "Train MSE: 24.500317205016636\n",
      "Test MSE: 24.671013872218413\n",
      "R square train is:0.47777940388870255\n",
      "R square train is:0.5075506158529834\n",
      "\n",
      "Model: Lasso\n",
      "Train MSE: 34.05631747642758\n",
      "Test MSE: 37.83893051168915\n",
      "R square train is:0.27409468762902356\n",
      "R square train is:0.2447104880336426\n",
      "\n",
      "Model: KNeighborsRegressor\n",
      "Train MSE: 24.41774083034942\n",
      "Test MSE: 41.26571271760797\n",
      "R square train is:0.4795395069617596\n",
      "R square train is:0.17630970014340674\n",
      "\n",
      "Model: GradientBoostingRegressor\n",
      "Train MSE: 5.612441222771804\n",
      "Test MSE: 8.184979723890216\n",
      "R square train is:0.8803716549271705\n",
      "R square train is:0.8366225139687331\n",
      "\n"
     ]
    }
   ],
   "source": [
    "from sklearn.tree import DecisionTreeRegressor\n",
    "from sklearn.ensemble import RandomForestRegressor, AdaBoostRegressor\n",
    "from sklearn.svm import SVR\n",
    "from sklearn.linear_model import LinearRegression, Ridge,Lasso\n",
    "from sklearn.neighbors import KNeighborsRegressor\n",
    "from sklearn.ensemble import GradientBoostingRegressor\n",
    "from sklearn.metrics import  accuracy_score,mean_squared_error,r2_score\n",
    "\n",
    "# Create and fit the Regression  models\n",
    "dt = DecisionTreeRegressor()\n",
    "rf =  RandomForestRegressor()\n",
    "ada = AdaBoostRegressor()\n",
    "svr = SVR()\n",
    "lr = LinearRegression()\n",
    "ridge = Ridge()\n",
    "lasso = Lasso()\n",
    "knn = KNeighborsRegressor()\n",
    "gb = GradientBoostingRegressor()\n",
    "\n",
    "models = [dt, rf,ada, svr , lr, ridge,lasso,knn,gb]\n",
    "\n",
    "for model in models:\n",
    "    model.fit(X_train, y_train)\n",
    "    train_pred = model.predict(X_train)\n",
    "    test_pred = model.predict(X_test)\n",
    "    train_mse = mean_squared_error(y_train, train_pred)\n",
    "    test_mse = mean_squared_error(y_test, test_pred)\n",
    "    print(f\"Model: {model.__class__.__name__}\")\n",
    "    print(f\"Train MSE: {train_mse}\")\n",
    "    print(f\"Test MSE: {test_mse}\")\n",
    "    print(f\"R square train is:{r2_score(y_train, train_pred)}\")\n",
    "    print(f\"R square train is:{r2_score(y_test, test_pred)}\")\n",
    "    print()\n"
   ]
  },
  {
   "cell_type": "code",
   "execution_count": 20,
   "id": "88a3ce3b",
   "metadata": {},
   "outputs": [
    {
     "name": "stdout",
     "output_type": "stream",
     "text": [
      "Model: DecisionTreeRegressor\n",
      "mse is  -19.1208846389856\n",
      "\n",
      "\n",
      "Model: RandomForestRegressor\n",
      "mse is  -13.171585171418425\n",
      "\n",
      "\n",
      "Model: AdaBoostRegressor\n",
      "mse is  -22.797355051901178\n",
      "\n",
      "\n",
      "Model: SVR\n",
      "mse is  -44.292987062685484\n",
      "\n",
      "\n",
      "Model: LinearRegression\n",
      "mse is  -27.188623343053386\n",
      "\n",
      "\n",
      "Model: Ridge\n",
      "mse is  -28.408990019900944\n",
      "\n",
      "\n",
      "Model: Lasso\n",
      "mse is  -44.73682942704856\n",
      "\n",
      "\n",
      "Model: KNeighborsRegressor\n",
      "mse is  -43.23888622642578\n",
      "\n",
      "\n",
      "Model: GradientBoostingRegressor\n",
      "mse is  -14.2347860923723\n",
      "\n",
      "\n"
     ]
    }
   ],
   "source": [
    "from sklearn.model_selection import cross_val_score\n",
    "for model in models:\n",
    "    mse=cross_val_score(model,X,Y,scoring='neg_mean_squared_error',cv=5)\n",
    "    print(f\"Model: {model.__class__.__name__}\")\n",
    "    print(\"mse is \",np.mean(mse))\n",
    "    print('\\n')\n",
    "    "
   ]
  },
  {
   "cell_type": "code",
   "execution_count": 21,
   "id": "4b75229d",
   "metadata": {},
   "outputs": [
    {
     "name": "stdout",
     "output_type": "stream",
     "text": [
      "0.7137430034385138\n",
      "{'criterion': 'friedman_mse', 'max_depth': 10, 'max_features': 'sqrt', 'n_estimators': 150}\n"
     ]
    }
   ],
   "source": [
    "# Best model is Ranfom foreast:- \n",
    "# gridsearch cv for increading acuracy \n",
    "from sklearn.model_selection import GridSearchCV\n",
    "parameters = {'n_estimators': [50,100,150],\n",
    "              'criterion':['squared_error','absolute_error','friedman_mse'],\n",
    "              'max_depth':[5,7,9,10,12],\n",
    "              'max_features':['sqrt','log2']\n",
    "              }\n",
    "rf_grid  = GridSearchCV(rf,param_grid=parameters,cv=5)\n",
    "rf_grid.fit(X,Y)\n",
    "print(rf_grid.best_score_)\n",
    "print(rf_grid.best_params_)"
   ]
  },
  {
   "cell_type": "code",
   "execution_count": 22,
   "id": "eb3390de",
   "metadata": {},
   "outputs": [],
   "source": [
    "import pickle\n",
    "\n",
    "with open('model.pkl', 'wb') as file:\n",
    "    pickle.dump(rf, file)"
   ]
  },
  {
   "cell_type": "code",
   "execution_count": null,
   "id": "5ac2b6c8",
   "metadata": {},
   "outputs": [],
   "source": [
    "pickled_model = pickle.load(open('model.pkl', 'rb'))\n",
    "pickled_model.predict(X_test)"
   ]
  },
  {
   "cell_type": "code",
   "execution_count": null,
   "id": "a9a42161",
   "metadata": {},
   "outputs": [],
   "source": []
  },
  {
   "cell_type": "code",
   "execution_count": null,
   "id": "681dfb80",
   "metadata": {},
   "outputs": [],
   "source": []
  },
  {
   "cell_type": "code",
   "execution_count": null,
   "id": "0a34bedc",
   "metadata": {},
   "outputs": [],
   "source": []
  },
  {
   "cell_type": "code",
   "execution_count": null,
   "id": "78586d64",
   "metadata": {},
   "outputs": [],
   "source": []
  },
  {
   "cell_type": "code",
   "execution_count": null,
   "id": "09541672",
   "metadata": {},
   "outputs": [],
   "source": []
  },
  {
   "cell_type": "code",
   "execution_count": null,
   "id": "62b6071b",
   "metadata": {},
   "outputs": [],
   "source": []
  },
  {
   "cell_type": "code",
   "execution_count": null,
   "id": "fa9ac69a",
   "metadata": {},
   "outputs": [],
   "source": []
  }
 ],
 "metadata": {
  "kernelspec": {
   "display_name": "Python 3 (ipykernel)",
   "language": "python",
   "name": "python3"
  },
  "language_info": {
   "codemirror_mode": {
    "name": "ipython",
    "version": 3
   },
   "file_extension": ".py",
   "mimetype": "text/x-python",
   "name": "python",
   "nbconvert_exporter": "python",
   "pygments_lexer": "ipython3",
   "version": "3.9.7"
  }
 },
 "nbformat": 4,
 "nbformat_minor": 5
}
